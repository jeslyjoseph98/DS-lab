{
 "cells": [
  {
   "cell_type": "code",
   "execution_count": 1,
   "id": "f28f11ef",
   "metadata": {},
   "outputs": [],
   "source": [
    "import pandas as pd\n",
    "import numpy as np\n",
    "from sklearn.model_selection import train_test_split"
   ]
  },
  {
   "cell_type": "code",
   "execution_count": 2,
   "id": "da821d9f",
   "metadata": {},
   "outputs": [
    {
     "data": {
      "text/html": [
       "<div>\n",
       "<style scoped>\n",
       "    .dataframe tbody tr th:only-of-type {\n",
       "        vertical-align: middle;\n",
       "    }\n",
       "\n",
       "    .dataframe tbody tr th {\n",
       "        vertical-align: top;\n",
       "    }\n",
       "\n",
       "    .dataframe thead th {\n",
       "        text-align: right;\n",
       "    }\n",
       "</style>\n",
       "<table border=\"1\" class=\"dataframe\">\n",
       "  <thead>\n",
       "    <tr style=\"text-align: right;\">\n",
       "      <th></th>\n",
       "      <th>D</th>\n",
       "      <th>X1</th>\n",
       "      <th>X2</th>\n",
       "      <th>X3</th>\n",
       "      <th>X4</th>\n",
       "      <th>X5</th>\n",
       "      <th>X6</th>\n",
       "    </tr>\n",
       "  </thead>\n",
       "  <tbody>\n",
       "    <tr>\n",
       "      <th>0</th>\n",
       "      <td>0</td>\n",
       "      <td>3</td>\n",
       "      <td>3</td>\n",
       "      <td>3</td>\n",
       "      <td>4</td>\n",
       "      <td>2</td>\n",
       "      <td>4</td>\n",
       "    </tr>\n",
       "    <tr>\n",
       "      <th>1</th>\n",
       "      <td>0</td>\n",
       "      <td>3</td>\n",
       "      <td>2</td>\n",
       "      <td>3</td>\n",
       "      <td>5</td>\n",
       "      <td>4</td>\n",
       "      <td>3</td>\n",
       "    </tr>\n",
       "    <tr>\n",
       "      <th>2</th>\n",
       "      <td>1</td>\n",
       "      <td>5</td>\n",
       "      <td>3</td>\n",
       "      <td>3</td>\n",
       "      <td>3</td>\n",
       "      <td>3</td>\n",
       "      <td>5</td>\n",
       "    </tr>\n",
       "    <tr>\n",
       "      <th>3</th>\n",
       "      <td>0</td>\n",
       "      <td>5</td>\n",
       "      <td>4</td>\n",
       "      <td>3</td>\n",
       "      <td>3</td>\n",
       "      <td>3</td>\n",
       "      <td>5</td>\n",
       "    </tr>\n",
       "    <tr>\n",
       "      <th>4</th>\n",
       "      <td>0</td>\n",
       "      <td>5</td>\n",
       "      <td>4</td>\n",
       "      <td>3</td>\n",
       "      <td>3</td>\n",
       "      <td>3</td>\n",
       "      <td>5</td>\n",
       "    </tr>\n",
       "    <tr>\n",
       "      <th>...</th>\n",
       "      <td>...</td>\n",
       "      <td>...</td>\n",
       "      <td>...</td>\n",
       "      <td>...</td>\n",
       "      <td>...</td>\n",
       "      <td>...</td>\n",
       "      <td>...</td>\n",
       "    </tr>\n",
       "    <tr>\n",
       "      <th>124</th>\n",
       "      <td>1</td>\n",
       "      <td>5</td>\n",
       "      <td>2</td>\n",
       "      <td>4</td>\n",
       "      <td>4</td>\n",
       "      <td>2</td>\n",
       "      <td>3</td>\n",
       "    </tr>\n",
       "    <tr>\n",
       "      <th>125</th>\n",
       "      <td>0</td>\n",
       "      <td>5</td>\n",
       "      <td>3</td>\n",
       "      <td>3</td>\n",
       "      <td>4</td>\n",
       "      <td>4</td>\n",
       "      <td>5</td>\n",
       "    </tr>\n",
       "    <tr>\n",
       "      <th>126</th>\n",
       "      <td>0</td>\n",
       "      <td>5</td>\n",
       "      <td>3</td>\n",
       "      <td>3</td>\n",
       "      <td>4</td>\n",
       "      <td>4</td>\n",
       "      <td>4</td>\n",
       "    </tr>\n",
       "    <tr>\n",
       "      <th>127</th>\n",
       "      <td>0</td>\n",
       "      <td>3</td>\n",
       "      <td>2</td>\n",
       "      <td>3</td>\n",
       "      <td>3</td>\n",
       "      <td>5</td>\n",
       "      <td>4</td>\n",
       "    </tr>\n",
       "    <tr>\n",
       "      <th>128</th>\n",
       "      <td>0</td>\n",
       "      <td>4</td>\n",
       "      <td>1</td>\n",
       "      <td>3</td>\n",
       "      <td>3</td>\n",
       "      <td>3</td>\n",
       "      <td>4</td>\n",
       "    </tr>\n",
       "  </tbody>\n",
       "</table>\n",
       "<p>129 rows × 7 columns</p>\n",
       "</div>"
      ],
      "text/plain": [
       "     D  X1  X2  X3  X4  X5  X6\n",
       "0    0   3   3   3   4   2   4\n",
       "1    0   3   2   3   5   4   3\n",
       "2    1   5   3   3   3   3   5\n",
       "3    0   5   4   3   3   3   5\n",
       "4    0   5   4   3   3   3   5\n",
       "..  ..  ..  ..  ..  ..  ..  ..\n",
       "124  1   5   2   4   4   2   3\n",
       "125  0   5   3   3   4   4   5\n",
       "126  0   5   3   3   4   4   4\n",
       "127  0   3   2   3   3   5   4\n",
       "128  0   4   1   3   3   3   4\n",
       "\n",
       "[129 rows x 7 columns]"
      ]
     },
     "execution_count": 2,
     "metadata": {},
     "output_type": "execute_result"
    }
   ],
   "source": [
    "tr=pd.read_csv('data3.csv')\n",
    "tr"
   ]
  },
  {
   "cell_type": "code",
   "execution_count": 3,
   "id": "4f09697a",
   "metadata": {},
   "outputs": [
    {
     "data": {
      "text/plain": [
       "129"
      ]
     },
     "execution_count": 3,
     "metadata": {},
     "output_type": "execute_result"
    }
   ],
   "source": [
    "total=tr.shape[0]\n",
    "total"
   ]
  },
  {
   "cell_type": "code",
   "execution_count": 4,
   "id": "58bbb4b1",
   "metadata": {},
   "outputs": [
    {
     "data": {
      "text/plain": [
       "59"
      ]
     },
     "execution_count": 4,
     "metadata": {},
     "output_type": "execute_result"
    }
   ],
   "source": [
    "frqzero=tr['D'][tr['D']==0].count()\n",
    "frqzero"
   ]
  },
  {
   "cell_type": "code",
   "execution_count": 5,
   "id": "139c9702",
   "metadata": {},
   "outputs": [
    {
     "data": {
      "text/plain": [
       "70"
      ]
     },
     "execution_count": 5,
     "metadata": {},
     "output_type": "execute_result"
    }
   ],
   "source": [
    "frqone=tr['D'][tr['D']==1].count()\n",
    "frqone"
   ]
  },
  {
   "cell_type": "code",
   "execution_count": 6,
   "id": "166b1d67",
   "metadata": {},
   "outputs": [
    {
     "data": {
      "text/plain": [
       "0.4573643410852713"
      ]
     },
     "execution_count": 6,
     "metadata": {},
     "output_type": "execute_result"
    }
   ],
   "source": [
    "perzero=frqzero/total\n",
    "perzero"
   ]
  },
  {
   "cell_type": "code",
   "execution_count": 7,
   "id": "0bb0a949",
   "metadata": {},
   "outputs": [
    {
     "data": {
      "text/plain": [
       "0.5426356589147286"
      ]
     },
     "execution_count": 7,
     "metadata": {},
     "output_type": "execute_result"
    }
   ],
   "source": [
    "perone=frqone/total\n",
    "perone"
   ]
  },
  {
   "cell_type": "code",
   "execution_count": 8,
   "id": "b953c5f4",
   "metadata": {},
   "outputs": [
    {
     "data": {
      "text/plain": [
       "array([[0., 0., 0., 0., 0., 0.],\n",
       "       [0., 0., 0., 0., 0., 0.],\n",
       "       [0., 0., 0., 0., 0., 0.],\n",
       "       [0., 0., 0., 0., 0., 0.],\n",
       "       [0., 0., 0., 0., 0., 0.]])"
      ]
     },
     "execution_count": 8,
     "metadata": {},
     "output_type": "execute_result"
    }
   ],
   "source": [
    "czero=np.zeros((5,6))\n",
    "czero"
   ]
  },
  {
   "cell_type": "code",
   "execution_count": 9,
   "id": "7cc0928c",
   "metadata": {},
   "outputs": [
    {
     "data": {
      "text/plain": [
       "array([[0., 0., 0., 0., 0., 0.],\n",
       "       [0., 0., 0., 0., 0., 0.],\n",
       "       [0., 0., 0., 0., 0., 0.],\n",
       "       [0., 0., 0., 0., 0., 0.],\n",
       "       [0., 0., 0., 0., 0., 0.]])"
      ]
     },
     "execution_count": 9,
     "metadata": {},
     "output_type": "execute_result"
    }
   ],
   "source": [
    "cone=np.zeros((5,6))\n",
    "cone"
   ]
  },
  {
   "cell_type": "code",
   "execution_count": 10,
   "id": "e566c326",
   "metadata": {},
   "outputs": [
    {
     "data": {
      "text/plain": [
       "7"
      ]
     },
     "execution_count": 10,
     "metadata": {},
     "output_type": "execute_result"
    }
   ],
   "source": [
    "tr['X1'][tr['D']==1][tr['X1']==3].count()"
   ]
  },
  {
   "cell_type": "code",
   "execution_count": 11,
   "id": "0276d7de",
   "metadata": {},
   "outputs": [
    {
     "data": {
      "text/plain": [
       "5    62\n",
       "4    43\n",
       "3    23\n",
       "1     1\n",
       "Name: X1, dtype: int64"
      ]
     },
     "execution_count": 11,
     "metadata": {},
     "output_type": "execute_result"
    }
   ],
   "source": [
    "tr.X1.value_counts()"
   ]
  },
  {
   "cell_type": "code",
   "execution_count": 12,
   "id": "10502e52",
   "metadata": {},
   "outputs": [
    {
     "data": {
      "text/plain": [
       "3    40\n",
       "2    37\n",
       "1    28\n",
       "4    18\n",
       "5     6\n",
       "Name: X2, dtype: int64"
      ]
     },
     "execution_count": 12,
     "metadata": {},
     "output_type": "execute_result"
    }
   ],
   "source": [
    "tr.X2.value_counts()"
   ]
  },
  {
   "cell_type": "code",
   "execution_count": 13,
   "id": "0f9deede",
   "metadata": {},
   "outputs": [
    {
     "data": {
      "text/plain": [
       "3    59\n",
       "4    33\n",
       "2    16\n",
       "5    15\n",
       "1     6\n",
       "Name: X3, dtype: int64"
      ]
     },
     "execution_count": 13,
     "metadata": {},
     "output_type": "execute_result"
    }
   ],
   "source": [
    "tr.X3.value_counts()"
   ]
  },
  {
   "cell_type": "code",
   "execution_count": 14,
   "id": "4140aace",
   "metadata": {},
   "outputs": [
    {
     "data": {
      "text/plain": [
       "4    51\n",
       "3    48\n",
       "5    23\n",
       "2     6\n",
       "1     1\n",
       "Name: X4, dtype: int64"
      ]
     },
     "execution_count": 14,
     "metadata": {},
     "output_type": "execute_result"
    }
   ],
   "source": [
    "tr.X4.value_counts()"
   ]
  },
  {
   "cell_type": "code",
   "execution_count": 15,
   "id": "eb16cbb4",
   "metadata": {},
   "outputs": [
    {
     "data": {
      "text/plain": [
       "4    52\n",
       "5    28\n",
       "3    26\n",
       "2    17\n",
       "1     6\n",
       "Name: X5, dtype: int64"
      ]
     },
     "execution_count": 15,
     "metadata": {},
     "output_type": "execute_result"
    }
   ],
   "source": [
    "tr.X5.value_counts()"
   ]
  },
  {
   "cell_type": "code",
   "execution_count": 16,
   "id": "760cd2f3",
   "metadata": {},
   "outputs": [
    {
     "data": {
      "text/plain": [
       "5    54\n",
       "4    52\n",
       "3    21\n",
       "2     1\n",
       "1     1\n",
       "Name: X6, dtype: int64"
      ]
     },
     "execution_count": 16,
     "metadata": {},
     "output_type": "execute_result"
    }
   ],
   "source": [
    "tr.X6.value_counts()"
   ]
  },
  {
   "cell_type": "code",
   "execution_count": 17,
   "id": "92d4cc40",
   "metadata": {},
   "outputs": [
    {
     "data": {
      "text/plain": [
       "'X1'"
      ]
     },
     "execution_count": 17,
     "metadata": {},
     "output_type": "execute_result"
    }
   ],
   "source": [
    "'X'+str(1)"
   ]
  },
  {
   "cell_type": "code",
   "execution_count": 36,
   "id": "b62cd3ab",
   "metadata": {},
   "outputs": [],
   "source": [
    "for i in range(0,6):\n",
    "    for j in range(0,5):\n",
    "        czero[j][i]=tr['X'+str(i+1)][tr['D']==0][tr['X'+str(i+1)]==j+1].count()"
   ]
  },
  {
   "cell_type": "code",
   "execution_count": 37,
   "id": "88faafbd",
   "metadata": {},
   "outputs": [
    {
     "data": {
      "text/plain": [
       "array([[ 1., 15.,  4.,  0.,  5.,  1.],\n",
       "       [ 0., 14.,  7.,  5.,  9.,  1.],\n",
       "       [16., 18., 34., 24., 15., 16.],\n",
       "       [25., 10.,  9., 21., 22., 24.],\n",
       "       [17.,  2.,  5.,  9.,  8., 17.]])"
      ]
     },
     "execution_count": 37,
     "metadata": {},
     "output_type": "execute_result"
    }
   ],
   "source": [
    "czero"
   ]
  },
  {
   "cell_type": "code",
   "execution_count": 31,
   "id": "3d59fa79",
   "metadata": {},
   "outputs": [],
   "source": [
    "for i in range(0,6):\n",
    "    for j in range(0,5):\n",
    "        cone[j][i]=tr['X'+str(i+1)][tr['D']==1][tr['X'+str(i+1)]==j+1].count()"
   ]
  },
  {
   "cell_type": "code",
   "execution_count": 32,
   "id": "b4ea523a",
   "metadata": {},
   "outputs": [
    {
     "data": {
      "text/plain": [
       "array([[ 0., 13.,  2.,  1.,  1.,  0.],\n",
       "       [ 0., 23.,  9.,  1.,  8.,  0.],\n",
       "       [ 7., 22., 25., 24., 11.,  5.],\n",
       "       [18.,  8., 24., 30., 30., 28.],\n",
       "       [45.,  4., 10., 14., 20., 37.]])"
      ]
     },
     "execution_count": 32,
     "metadata": {},
     "output_type": "execute_result"
    }
   ],
   "source": [
    "cone"
   ]
  },
  {
   "cell_type": "code",
   "execution_count": 22,
   "id": "0d544355",
   "metadata": {},
   "outputs": [
    {
     "data": {
      "text/plain": [
       "array([[0.01694915, 0.25423729, 0.06779661, 0.        , 0.08474576,\n",
       "        0.01694915],\n",
       "       [0.        , 0.23728814, 0.11864407, 0.08474576, 0.15254237,\n",
       "        0.01694915],\n",
       "       [0.27118644, 0.30508475, 0.57627119, 0.40677966, 0.25423729,\n",
       "        0.27118644],\n",
       "       [0.42372881, 0.16949153, 0.15254237, 0.3559322 , 0.37288136,\n",
       "        0.40677966],\n",
       "       [0.28813559, 0.03389831, 0.08474576, 0.15254237, 0.13559322,\n",
       "        0.28813559]])"
      ]
     },
     "execution_count": 22,
     "metadata": {},
     "output_type": "execute_result"
    }
   ],
   "source": [
    "czero=czero/frqzero\n",
    "czero"
   ]
  },
  {
   "cell_type": "code",
   "execution_count": 23,
   "id": "2f777703",
   "metadata": {},
   "outputs": [
    {
     "data": {
      "text/plain": [
       "array([[0.        , 0.18571429, 0.02857143, 0.01428571, 0.01428571,\n",
       "        0.        ],\n",
       "       [0.        , 0.32857143, 0.12857143, 0.01428571, 0.11428571,\n",
       "        0.        ],\n",
       "       [0.1       , 0.31428571, 0.35714286, 0.34285714, 0.15714286,\n",
       "        0.07142857],\n",
       "       [0.25714286, 0.11428571, 0.34285714, 0.42857143, 0.42857143,\n",
       "        0.4       ],\n",
       "       [0.64285714, 0.05714286, 0.14285714, 0.2       , 0.28571429,\n",
       "        0.52857143]])"
      ]
     },
     "execution_count": 23,
     "metadata": {},
     "output_type": "execute_result"
    }
   ],
   "source": [
    "cone=cone/frqone\n",
    "cone"
   ]
  },
  {
   "cell_type": "code",
   "execution_count": 24,
   "id": "cebf9bdd",
   "metadata": {},
   "outputs": [],
   "source": [
    "zeropro=np.zeros((6))\n",
    "onepro=np.zeros((6))"
   ]
  },
  {
   "cell_type": "code",
   "execution_count": 25,
   "id": "dedaa436",
   "metadata": {},
   "outputs": [
    {
     "data": {
      "text/plain": [
       "array([1., 0., 0., 1., 0., 0.])"
      ]
     },
     "execution_count": 25,
     "metadata": {},
     "output_type": "execute_result"
    }
   ],
   "source": [
    "for i in range(0,5):\n",
    "    for j in range(0,6):\n",
    "        if(czero[i][j] == 0):\n",
    "            onepro[j] = onepro[j]+1\n",
    "zeropro"
   ]
  },
  {
   "cell_type": "code",
   "execution_count": 27,
   "id": "d2dc42d0",
   "metadata": {},
   "outputs": [
    {
     "data": {
      "text/plain": [
       "array([2., 0., 0., 0., 0., 2.])"
      ]
     },
     "execution_count": 27,
     "metadata": {},
     "output_type": "execute_result"
    }
   ],
   "source": [
    "for i in range(0,5):\n",
    "    for j in range(0,6):\n",
    "        if(cone[i][j] == 0):\n",
    "            onepro[j] = onepro[j]+1\n",
    "onepro"
   ]
  },
  {
   "cell_type": "code",
   "execution_count": 33,
   "id": "d07cb24d",
   "metadata": {},
   "outputs": [],
   "source": [
    "clzzeropro = np.zeros((5,6))\n",
    "clzonepro = np.zeros((5,6))\n"
   ]
  },
  {
   "cell_type": "code",
   "execution_count": 35,
   "id": "10246591",
   "metadata": {},
   "outputs": [
    {
     "data": {
      "text/plain": [
       "array([[0.01333333, 0.18571429, 0.02857143, 0.01428571, 0.01428571,\n",
       "        0.01333333],\n",
       "       [0.01333333, 0.32857143, 0.12857143, 0.01428571, 0.11428571,\n",
       "        0.01333333],\n",
       "       [0.10666667, 0.31428571, 0.35714286, 0.34285714, 0.15714286,\n",
       "        0.08      ],\n",
       "       [0.25333333, 0.11428571, 0.34285714, 0.42857143, 0.42857143,\n",
       "        0.38666667],\n",
       "       [0.61333333, 0.05714286, 0.14285714, 0.2       , 0.28571429,\n",
       "        0.50666667]])"
      ]
     },
     "execution_count": 35,
     "metadata": {},
     "output_type": "execute_result"
    }
   ],
   "source": [
    "for n in range(0,6):\n",
    "    if(onepro[n]>0):\n",
    "        for j in range(0,5):\n",
    "            clzonepro[j][n] = (cone[j][n]+1)/(frqone+5)\n",
    "    else:\n",
    "        for j in range(0,5):\n",
    "            clzonepro[j][n] = cone[j][n]/frqone\n",
    "clzonepro"
   ]
  },
  {
   "cell_type": "code",
   "execution_count": 39,
   "id": "8aab6016",
   "metadata": {},
   "outputs": [
    {
     "data": {
      "text/plain": [
       "array([[0.03125   , 0.25423729, 0.06779661, 0.015625  , 0.08474576,\n",
       "        0.03125   ],\n",
       "       [0.015625  , 0.23728814, 0.11864407, 0.09375   , 0.15254237,\n",
       "        0.03125   ],\n",
       "       [0.265625  , 0.30508475, 0.57627119, 0.390625  , 0.25423729,\n",
       "        0.265625  ],\n",
       "       [0.40625   , 0.16949153, 0.15254237, 0.34375   , 0.37288136,\n",
       "        0.390625  ],\n",
       "       [0.28125   , 0.03389831, 0.08474576, 0.15625   , 0.13559322,\n",
       "        0.28125   ]])"
      ]
     },
     "execution_count": 39,
     "metadata": {},
     "output_type": "execute_result"
    }
   ],
   "source": [
    "for n in range(0,6):\n",
    "    if(zeropro[n]>0):\n",
    "        for j in range(0,5):\n",
    "            clzzeropro[j][n] = (czero[j][n]+1)/(frqzero+5)\n",
    "    else:\n",
    "        for j in range(0,5):\n",
    "            clzzeropro[j][n] = czero[j][n]/frqzero\n",
    "clzzeropro"
   ]
  },
  {
   "cell_type": "code",
   "execution_count": 40,
   "id": "584908f7",
   "metadata": {},
   "outputs": [
    {
     "data": {
      "text/html": [
       "<div>\n",
       "<style scoped>\n",
       "    .dataframe tbody tr th:only-of-type {\n",
       "        vertical-align: middle;\n",
       "    }\n",
       "\n",
       "    .dataframe tbody tr th {\n",
       "        vertical-align: top;\n",
       "    }\n",
       "\n",
       "    .dataframe thead th {\n",
       "        text-align: right;\n",
       "    }\n",
       "</style>\n",
       "<table border=\"1\" class=\"dataframe\">\n",
       "  <thead>\n",
       "    <tr style=\"text-align: right;\">\n",
       "      <th></th>\n",
       "      <th>D</th>\n",
       "      <th>X1</th>\n",
       "      <th>X2</th>\n",
       "      <th>X3</th>\n",
       "      <th>X4</th>\n",
       "      <th>X5</th>\n",
       "      <th>X6</th>\n",
       "    </tr>\n",
       "  </thead>\n",
       "  <tbody>\n",
       "    <tr>\n",
       "      <th>0</th>\n",
       "      <td>0</td>\n",
       "      <td>5</td>\n",
       "      <td>1</td>\n",
       "      <td>4</td>\n",
       "      <td>4</td>\n",
       "      <td>4</td>\n",
       "      <td>5</td>\n",
       "    </tr>\n",
       "    <tr>\n",
       "      <th>1</th>\n",
       "      <td>0</td>\n",
       "      <td>5</td>\n",
       "      <td>2</td>\n",
       "      <td>2</td>\n",
       "      <td>4</td>\n",
       "      <td>4</td>\n",
       "      <td>5</td>\n",
       "    </tr>\n",
       "    <tr>\n",
       "      <th>2</th>\n",
       "      <td>0</td>\n",
       "      <td>5</td>\n",
       "      <td>3</td>\n",
       "      <td>5</td>\n",
       "      <td>4</td>\n",
       "      <td>5</td>\n",
       "      <td>5</td>\n",
       "    </tr>\n",
       "    <tr>\n",
       "      <th>3</th>\n",
       "      <td>1</td>\n",
       "      <td>3</td>\n",
       "      <td>4</td>\n",
       "      <td>4</td>\n",
       "      <td>5</td>\n",
       "      <td>1</td>\n",
       "      <td>3</td>\n",
       "    </tr>\n",
       "    <tr>\n",
       "      <th>4</th>\n",
       "      <td>1</td>\n",
       "      <td>5</td>\n",
       "      <td>1</td>\n",
       "      <td>5</td>\n",
       "      <td>5</td>\n",
       "      <td>5</td>\n",
       "      <td>5</td>\n",
       "    </tr>\n",
       "    <tr>\n",
       "      <th>5</th>\n",
       "      <td>1</td>\n",
       "      <td>4</td>\n",
       "      <td>3</td>\n",
       "      <td>3</td>\n",
       "      <td>4</td>\n",
       "      <td>4</td>\n",
       "      <td>4</td>\n",
       "    </tr>\n",
       "    <tr>\n",
       "      <th>6</th>\n",
       "      <td>1</td>\n",
       "      <td>5</td>\n",
       "      <td>5</td>\n",
       "      <td>1</td>\n",
       "      <td>1</td>\n",
       "      <td>5</td>\n",
       "      <td>1</td>\n",
       "    </tr>\n",
       "    <tr>\n",
       "      <th>7</th>\n",
       "      <td>0</td>\n",
       "      <td>4</td>\n",
       "      <td>4</td>\n",
       "      <td>4</td>\n",
       "      <td>4</td>\n",
       "      <td>1</td>\n",
       "      <td>3</td>\n",
       "    </tr>\n",
       "    <tr>\n",
       "      <th>8</th>\n",
       "      <td>1</td>\n",
       "      <td>5</td>\n",
       "      <td>2</td>\n",
       "      <td>3</td>\n",
       "      <td>4</td>\n",
       "      <td>4</td>\n",
       "      <td>3</td>\n",
       "    </tr>\n",
       "    <tr>\n",
       "      <th>9</th>\n",
       "      <td>0</td>\n",
       "      <td>5</td>\n",
       "      <td>3</td>\n",
       "      <td>3</td>\n",
       "      <td>1</td>\n",
       "      <td>3</td>\n",
       "      <td>5</td>\n",
       "    </tr>\n",
       "    <tr>\n",
       "      <th>10</th>\n",
       "      <td>1</td>\n",
       "      <td>5</td>\n",
       "      <td>2</td>\n",
       "      <td>3</td>\n",
       "      <td>4</td>\n",
       "      <td>2</td>\n",
       "      <td>5</td>\n",
       "    </tr>\n",
       "    <tr>\n",
       "      <th>11</th>\n",
       "      <td>1</td>\n",
       "      <td>5</td>\n",
       "      <td>3</td>\n",
       "      <td>3</td>\n",
       "      <td>4</td>\n",
       "      <td>4</td>\n",
       "      <td>5</td>\n",
       "    </tr>\n",
       "    <tr>\n",
       "      <th>12</th>\n",
       "      <td>0</td>\n",
       "      <td>4</td>\n",
       "      <td>3</td>\n",
       "      <td>3</td>\n",
       "      <td>4</td>\n",
       "      <td>4</td>\n",
       "      <td>5</td>\n",
       "    </tr>\n",
       "    <tr>\n",
       "      <th>13</th>\n",
       "      <td>0</td>\n",
       "      <td>5</td>\n",
       "      <td>3</td>\n",
       "      <td>2</td>\n",
       "      <td>5</td>\n",
       "      <td>5</td>\n",
       "      <td>5</td>\n",
       "    </tr>\n",
       "  </tbody>\n",
       "</table>\n",
       "</div>"
      ],
      "text/plain": [
       "    D  X1  X2  X3  X4  X5  X6\n",
       "0   0   5   1   4   4   4   5\n",
       "1   0   5   2   2   4   4   5\n",
       "2   0   5   3   5   4   5   5\n",
       "3   1   3   4   4   5   1   3\n",
       "4   1   5   1   5   5   5   5\n",
       "5   1   4   3   3   4   4   4\n",
       "6   1   5   5   1   1   5   1\n",
       "7   0   4   4   4   4   1   3\n",
       "8   1   5   2   3   4   4   3\n",
       "9   0   5   3   3   1   3   5\n",
       "10  1   5   2   3   4   2   5\n",
       "11  1   5   3   3   4   4   5\n",
       "12  0   4   3   3   4   4   5\n",
       "13  0   5   3   2   5   5   5"
      ]
     },
     "execution_count": 40,
     "metadata": {},
     "output_type": "execute_result"
    }
   ],
   "source": [
    "ts=pd.read_csv('test3.csv')\n",
    "ts"
   ]
  },
  {
   "cell_type": "code",
   "execution_count": 41,
   "id": "95c08ab2",
   "metadata": {},
   "outputs": [
    {
     "data": {
      "text/plain": [
       "14"
      ]
     },
     "execution_count": 41,
     "metadata": {},
     "output_type": "execute_result"
    }
   ],
   "source": [
    "ts_total = ts.shape[0]\n",
    "ts_total"
   ]
  },
  {
   "cell_type": "code",
   "execution_count": 42,
   "id": "4150e075",
   "metadata": {},
   "outputs": [],
   "source": [
    "#confusion matrix\n",
    "true_pos = 0\n",
    "true_neg = 0\n",
    "false_pos = 0\n",
    "false_neg = 0\n",
    "for n in range(0,ts_total):\n",
    "    a = 1\n",
    "    b = 1\n",
    "    for i in range(1,6):\n",
    "        k = ts.at[n,'X'+str(i)]\n",
    "        a = a*clzzeropro[k-1][i-1]\n",
    "        b =b*clzonepro[k-1][i-1]\n",
    "        if i == 5:\n",
    "            break\n",
    "    a = a*perzero\n",
    "    b = b*perone\n",
    "    if(a > b):\n",
    "        predict = 0\n",
    "    else:\n",
    "        predict = 1\n",
    "    result = ts.at[n,'D']\n",
    "    if(result == 1 and predict == 1):\n",
    "        true_pos = true_pos + 1\n",
    "    elif(result == 1 and predict == 0):\n",
    "        true_neg = true_neg + 1\n",
    "    elif(result == 0 and predict == 1):\n",
    "        false_pos = false_pos + 1\n",
    "    else:\n",
    "        false_neg = false_neg + 1"
   ]
  },
  {
   "cell_type": "code",
   "execution_count": 43,
   "id": "6f13db88",
   "metadata": {},
   "outputs": [
    {
     "data": {
      "text/plain": [
       "array([[5, 4],\n",
       "       [3, 2]])"
      ]
     },
     "execution_count": 43,
     "metadata": {},
     "output_type": "execute_result"
    }
   ],
   "source": [
    "confusion = np.array([[true_pos,false_pos],[false_neg,true_neg]])\n",
    "confusion"
   ]
  },
  {
   "cell_type": "code",
   "execution_count": 44,
   "id": "6477c5a5",
   "metadata": {},
   "outputs": [
    {
     "name": "stdout",
     "output_type": "stream",
     "text": [
      "Correctness =  0.5\n"
     ]
    }
   ],
   "source": [
    "correctness=(true_pos+true_neg)/(true_pos+true_neg+false_pos+false_neg)\n",
    "print(\"Correctness = \",correctness)"
   ]
  },
  {
   "cell_type": "code",
   "execution_count": 45,
   "id": "2651f854",
   "metadata": {},
   "outputs": [
    {
     "name": "stdout",
     "output_type": "stream",
     "text": [
      "Errorness =  0.5\n"
     ]
    }
   ],
   "source": [
    "errorness=(false_pos+false_neg)/(true_pos+true_neg+false_pos+false_neg)\n",
    "print(\"Errorness = \",errorness)"
   ]
  },
  {
   "cell_type": "code",
   "execution_count": 46,
   "id": "ce227d20",
   "metadata": {},
   "outputs": [
    {
     "name": "stdout",
     "output_type": "stream",
     "text": [
      "Precision =  0.5555555555555556\n"
     ]
    }
   ],
   "source": [
    "precision=true_pos/(true_pos+false_pos)\n",
    "print(\"Precision = \",precision)"
   ]
  },
  {
   "cell_type": "code",
   "execution_count": 47,
   "id": "1c0d0c79",
   "metadata": {},
   "outputs": [
    {
     "name": "stdout",
     "output_type": "stream",
     "text": [
      "Recall =  0.625\n"
     ]
    }
   ],
   "source": [
    "recall=true_pos/(true_pos+false_neg)\n",
    "print(\"Recall = \",recall)"
   ]
  }
 ],
 "metadata": {
  "kernelspec": {
   "display_name": "Python 3 (ipykernel)",
   "language": "python",
   "name": "python3"
  },
  "language_info": {
   "codemirror_mode": {
    "name": "ipython",
    "version": 3
   },
   "file_extension": ".py",
   "mimetype": "text/x-python",
   "name": "python",
   "nbconvert_exporter": "python",
   "pygments_lexer": "ipython3",
   "version": "3.9.7"
  }
 },
 "nbformat": 4,
 "nbformat_minor": 5
}
