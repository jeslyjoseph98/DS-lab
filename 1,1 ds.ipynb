{
 "cells": [
  {
   "cell_type": "code",
   "execution_count": 1,
   "id": "4c8ac9c2",
   "metadata": {},
   "outputs": [],
   "source": [
    "import numpy as np\n",
    "matrix_a=np.array([[1,2,3,4],[5,6,7,8],[8,5,3,9]])\n",
    "matrix_b=np.array([[5,9,4,0],[2,6,9,3],[8,0,2,1]])\n"
   ]
  },
  {
   "cell_type": "code",
   "execution_count": 2,
   "id": "3a90aa11",
   "metadata": {},
   "outputs": [
    {
     "data": {
      "text/plain": [
       "2"
      ]
     },
     "execution_count": 2,
     "metadata": {},
     "output_type": "execute_result"
    }
   ],
   "source": [
    "matrix_a.ndim\n"
   ]
  },
  {
   "cell_type": "code",
   "execution_count": 3,
   "id": "40171b2f",
   "metadata": {},
   "outputs": [
    {
     "data": {
      "text/plain": [
       "2"
      ]
     },
     "execution_count": 3,
     "metadata": {},
     "output_type": "execute_result"
    }
   ],
   "source": [
    "matrix_b.ndim"
   ]
  },
  {
   "cell_type": "code",
   "execution_count": 4,
   "id": "8ba9e0cc",
   "metadata": {},
   "outputs": [
    {
     "data": {
      "text/plain": [
       "(3, 4)"
      ]
     },
     "execution_count": 4,
     "metadata": {},
     "output_type": "execute_result"
    }
   ],
   "source": [
    "matrix_a.shape\n",
    "\n"
   ]
  },
  {
   "cell_type": "code",
   "execution_count": 5,
   "id": "3bf5fa23",
   "metadata": {},
   "outputs": [
    {
     "data": {
      "text/plain": [
       "(3, 4)"
      ]
     },
     "execution_count": 5,
     "metadata": {},
     "output_type": "execute_result"
    }
   ],
   "source": [
    "matrix_b.shape"
   ]
  },
  {
   "cell_type": "code",
   "execution_count": 6,
   "id": "d12ac8e4",
   "metadata": {},
   "outputs": [
    {
     "data": {
      "text/plain": [
       "array([[ 6, 11,  7,  4],\n",
       "       [ 7, 12, 16, 11],\n",
       "       [16,  5,  5, 10]])"
      ]
     },
     "execution_count": 6,
     "metadata": {},
     "output_type": "execute_result"
    }
   ],
   "source": [
    "np.add(matrix_a,matrix_b)\n"
   ]
  },
  {
   "cell_type": "code",
   "execution_count": 7,
   "id": "6160ab0a",
   "metadata": {},
   "outputs": [
    {
     "data": {
      "text/plain": [
       "array([[-4, -7, -1,  4],\n",
       "       [ 3,  0, -2,  5],\n",
       "       [ 0,  5,  1,  8]])"
      ]
     },
     "execution_count": 7,
     "metadata": {},
     "output_type": "execute_result"
    }
   ],
   "source": [
    "np.subtract(matrix_a,matrix_b)"
   ]
  },
  {
   "cell_type": "code",
   "execution_count": 8,
   "id": "0506778d",
   "metadata": {},
   "outputs": [
    {
     "data": {
      "text/plain": [
       "array([[ 5, 18, 12,  0],\n",
       "       [10, 36, 63, 24],\n",
       "       [64,  0,  6,  9]])"
      ]
     },
     "execution_count": 8,
     "metadata": {},
     "output_type": "execute_result"
    }
   ],
   "source": [
    "matrix_a*matrix_b\n"
   ]
  },
  {
   "cell_type": "code",
   "execution_count": 9,
   "id": "9a27ff4f",
   "metadata": {},
   "outputs": [
    {
     "data": {
      "text/plain": [
       "array([[1, 5, 8],\n",
       "       [2, 6, 5],\n",
       "       [3, 7, 3],\n",
       "       [4, 8, 9]])"
      ]
     },
     "execution_count": 9,
     "metadata": {},
     "output_type": "execute_result"
    }
   ],
   "source": [
    "trans_a=matrix_a.T\n",
    "trans_a"
   ]
  },
  {
   "cell_type": "code",
   "execution_count": 10,
   "id": "19da3072",
   "metadata": {},
   "outputs": [
    {
     "data": {
      "text/plain": [
       "array([[ 30,  70,  63],\n",
       "       [ 70, 174, 163],\n",
       "       [ 63, 163, 179]])"
      ]
     },
     "execution_count": 10,
     "metadata": {},
     "output_type": "execute_result"
    }
   ],
   "source": [
    "np.matmul(matrix_a,trans_a)"
   ]
  },
  {
   "cell_type": "code",
   "execution_count": 11,
   "id": "37fdfde7",
   "metadata": {},
   "outputs": [
    {
     "data": {
      "text/plain": [
       "3.1743328257901515"
      ]
     },
     "execution_count": 11,
     "metadata": {},
     "output_type": "execute_result"
    }
   ],
   "source": [
    "np.average(matrix_b)\n",
    "np.mean(matrix_b)\n",
    "np.std(matrix_b)\n"
   ]
  },
  {
   "cell_type": "code",
   "execution_count": 12,
   "id": "5c3baec5",
   "metadata": {},
   "outputs": [
    {
     "data": {
      "text/plain": [
       "4.083333333333333"
      ]
     },
     "execution_count": 12,
     "metadata": {},
     "output_type": "execute_result"
    }
   ],
   "source": [
    "np.mean(matrix_b)"
   ]
  },
  {
   "cell_type": "code",
   "execution_count": 13,
   "id": "70066bbd",
   "metadata": {},
   "outputs": [
    {
     "data": {
      "text/plain": [
       "3.1743328257901515"
      ]
     },
     "execution_count": 13,
     "metadata": {},
     "output_type": "execute_result"
    }
   ],
   "source": [
    "np.std(matrix_b)"
   ]
  },
  {
   "cell_type": "code",
   "execution_count": 14,
   "id": "03081873",
   "metadata": {},
   "outputs": [
    {
     "data": {
      "text/plain": [
       "array([8, 6, 7, 9])"
      ]
     },
     "execution_count": 14,
     "metadata": {},
     "output_type": "execute_result"
    }
   ],
   "source": [
    "np.max(matrix_a,axis=0)"
   ]
  },
  {
   "cell_type": "code",
   "execution_count": 15,
   "id": "12f846d9",
   "metadata": {},
   "outputs": [
    {
     "data": {
      "text/plain": [
       "array([4, 8, 9])"
      ]
     },
     "execution_count": 15,
     "metadata": {},
     "output_type": "execute_result"
    }
   ],
   "source": [
    "np.max(matrix_a,axis=1)"
   ]
  },
  {
   "cell_type": "code",
   "execution_count": 16,
   "id": "94a89978",
   "metadata": {},
   "outputs": [
    {
     "data": {
      "text/plain": [
       "0"
      ]
     },
     "execution_count": 16,
     "metadata": {},
     "output_type": "execute_result"
    }
   ],
   "source": [
    "np.min(matrix_b)"
   ]
  },
  {
   "cell_type": "code",
   "execution_count": 17,
   "id": "e3cbb6f5",
   "metadata": {},
   "outputs": [
    {
     "data": {
      "text/plain": [
       "array([[5, 9, 4, 0, 2, 6],\n",
       "       [9, 3, 8, 0, 2, 1]])"
      ]
     },
     "execution_count": 17,
     "metadata": {},
     "output_type": "execute_result"
    }
   ],
   "source": [
    "a=matrix_b.reshape(2,6)\n",
    "a"
   ]
  },
  {
   "cell_type": "code",
   "execution_count": null,
   "id": "ce8b0cc9",
   "metadata": {},
   "outputs": [],
   "source": []
  }
 ],
 "metadata": {
  "kernelspec": {
   "display_name": "Python 3 (ipykernel)",
   "language": "python",
   "name": "python3"
  },
  "language_info": {
   "codemirror_mode": {
    "name": "ipython",
    "version": 3
   },
   "file_extension": ".py",
   "mimetype": "text/x-python",
   "name": "python",
   "nbconvert_exporter": "python",
   "pygments_lexer": "ipython3",
   "version": "3.9.7"
  }
 },
 "nbformat": 4,
 "nbformat_minor": 5
}
