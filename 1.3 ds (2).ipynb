{
 "cells": [
  {
   "cell_type": "code",
   "execution_count": 1,
   "id": "d46422e5",
   "metadata": {},
   "outputs": [],
   "source": [
    "from sklearn.feature_extraction import DictVectorizer"
   ]
  },
  {
   "cell_type": "code",
   "execution_count": 2,
   "id": "f69a4398",
   "metadata": {},
   "outputs": [],
   "source": [
    "data_dict=[{'apple':4,'orange':2},\n",
    "           {'apple':9,'orange':3},\n",
    "           {'apple':5,'mango':6},\n",
    "           {'apple':1,'mango':5}]"
   ]
  },
  {
   "cell_type": "code",
   "execution_count": 3,
   "id": "2cd17cd1",
   "metadata": {},
   "outputs": [
    {
     "name": "stdout",
     "output_type": "stream",
     "text": [
      "[[4. 0. 2.]\n",
      " [9. 0. 3.]\n",
      " [5. 6. 0.]\n",
      " [1. 5. 0.]]\n"
     ]
    }
   ],
   "source": [
    "dictvectorizer=DictVectorizer(sparse=False)\n",
    "features=dictvectorizer.fit_transform(data_dict)\n",
    "print (features)"
   ]
  },
  {
   "cell_type": "code",
   "execution_count": 4,
   "id": "516740ff",
   "metadata": {},
   "outputs": [
    {
     "data": {
      "text/plain": [
       "['apple', 'mango', 'orange']"
      ]
     },
     "execution_count": 4,
     "metadata": {},
     "output_type": "execute_result"
    }
   ],
   "source": [
    "dictvectorizer.get_feature_names()"
   ]
  },
  {
   "cell_type": "code",
   "execution_count": null,
   "id": "2a5b7da9",
   "metadata": {},
   "outputs": [],
   "source": []
  },
  {
   "cell_type": "code",
   "execution_count": null,
   "id": "6ecb1b01",
   "metadata": {},
   "outputs": [],
   "source": []
  }
 ],
 "metadata": {
  "kernelspec": {
   "display_name": "Python 3 (ipykernel)",
   "language": "python",
   "name": "python3"
  },
  "language_info": {
   "codemirror_mode": {
    "name": "ipython",
    "version": 3
   },
   "file_extension": ".py",
   "mimetype": "text/x-python",
   "name": "python",
   "nbconvert_exporter": "python",
   "pygments_lexer": "ipython3",
   "version": "3.9.7"
  }
 },
 "nbformat": 4,
 "nbformat_minor": 5
}
